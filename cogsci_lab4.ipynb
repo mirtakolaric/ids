{
 "cells": [
  {
   "cell_type": "markdown",
   "id": "30e9ce05",
   "metadata": {},
   "source": [
    "# Laboratory exercise 4\n",
    "\n",
    "In this laboratory exercise you will use the questionnaire and answers given below"
   ]
  },
  {
   "cell_type": "code",
   "execution_count": 1,
   "id": "d6820020",
   "metadata": {},
   "outputs": [],
   "source": [
    "import pandas as pd\n",
    "import numpy as np"
   ]
  },
  {
   "cell_type": "code",
   "execution_count": 2,
   "id": "c53f916c",
   "metadata": {},
   "outputs": [
    {
     "data": {
      "text/html": [
       "<div>\n",
       "<style scoped>\n",
       "    .dataframe tbody tr th:only-of-type {\n",
       "        vertical-align: middle;\n",
       "    }\n",
       "\n",
       "    .dataframe tbody tr th {\n",
       "        vertical-align: top;\n",
       "    }\n",
       "\n",
       "    .dataframe thead th {\n",
       "        text-align: right;\n",
       "    }\n",
       "</style>\n",
       "<table border=\"1\" class=\"dataframe\">\n",
       "  <thead>\n",
       "    <tr style=\"text-align: right;\">\n",
       "      <th></th>\n",
       "      <th>Q1</th>\n",
       "      <th>Q2</th>\n",
       "      <th>Q3</th>\n",
       "    </tr>\n",
       "  </thead>\n",
       "  <tbody>\n",
       "    <tr>\n",
       "      <th>0</th>\n",
       "      <td>1</td>\n",
       "      <td>1</td>\n",
       "      <td>1</td>\n",
       "    </tr>\n",
       "    <tr>\n",
       "      <th>1</th>\n",
       "      <td>2</td>\n",
       "      <td>1</td>\n",
       "      <td>1</td>\n",
       "    </tr>\n",
       "    <tr>\n",
       "      <th>2</th>\n",
       "      <td>2</td>\n",
       "      <td>1</td>\n",
       "      <td>2</td>\n",
       "    </tr>\n",
       "    <tr>\n",
       "      <th>3</th>\n",
       "      <td>3</td>\n",
       "      <td>2</td>\n",
       "      <td>1</td>\n",
       "    </tr>\n",
       "    <tr>\n",
       "      <th>4</th>\n",
       "      <td>2</td>\n",
       "      <td>3</td>\n",
       "      <td>2</td>\n",
       "    </tr>\n",
       "    <tr>\n",
       "      <th>5</th>\n",
       "      <td>2</td>\n",
       "      <td>3</td>\n",
       "      <td>3</td>\n",
       "    </tr>\n",
       "    <tr>\n",
       "      <th>6</th>\n",
       "      <td>3</td>\n",
       "      <td>2</td>\n",
       "      <td>3</td>\n",
       "    </tr>\n",
       "    <tr>\n",
       "      <th>7</th>\n",
       "      <td>3</td>\n",
       "      <td>3</td>\n",
       "      <td>3</td>\n",
       "    </tr>\n",
       "    <tr>\n",
       "      <th>8</th>\n",
       "      <td>2</td>\n",
       "      <td>3</td>\n",
       "      <td>2</td>\n",
       "    </tr>\n",
       "    <tr>\n",
       "      <th>9</th>\n",
       "      <td>3</td>\n",
       "      <td>3</td>\n",
       "      <td>3</td>\n",
       "    </tr>\n",
       "  </tbody>\n",
       "</table>\n",
       "</div>"
      ],
      "text/plain": [
       "   Q1  Q2  Q3\n",
       "0   1   1   1\n",
       "1   2   1   1\n",
       "2   2   1   2\n",
       "3   3   2   1\n",
       "4   2   3   2\n",
       "5   2   3   3\n",
       "6   3   2   3\n",
       "7   3   3   3\n",
       "8   2   3   2\n",
       "9   3   3   3"
      ]
     },
     "execution_count": 2,
     "metadata": {},
     "output_type": "execute_result"
    }
   ],
   "source": [
    "questionnaire = pd.DataFrame({'Q1': [1, 2, 2, 3, 2, 2, 3, 3, 2, 3],\n",
    "                              'Q2': [1, 1, 1, 2, 3, 3, 2, 3, 3, 3],\n",
    "                              'Q3': [1, 1, 2, 1, 2, 3, 3, 3, 2, 3]})\n",
    "questionnaire"
   ]
  },
  {
   "cell_type": "markdown",
   "id": "ce36a49d",
   "metadata": {},
   "source": [
    "1. Write a function to detrmine the realiability of the questionnaire answers with Cronbach's Alpha."
   ]
  },
  {
   "cell_type": "code",
   "execution_count": 3,
   "id": "d33540bc",
   "metadata": {
    "scrolled": true
   },
   "outputs": [
    {
     "data": {
      "text/plain": [
       "0.7742910373931704"
      ]
     },
     "execution_count": 3,
     "metadata": {},
     "output_type": "execute_result"
    }
   ],
   "source": [
    "def cronbach_alpha(questionnaire):\n",
    "    df_corr = questionnaire.corr()\n",
    "    N = questionnaire.shape[1]\n",
    "    rs = np.array([])\n",
    "    for i, col in enumerate(df_corr.columns):\n",
    "        sum_ = df_corr[col][i+1:].values\n",
    "        rs = np.append(sum_, rs)\n",
    "    mean_r = np.mean(rs)\n",
    "    cronbach_alpha = (N * mean_r) / (1 + (N - 1) * mean_r)\n",
    "    return cronbach_alpha\n",
    "\n",
    "cronbach_alpha(questionnaire)"
   ]
  },
  {
   "cell_type": "code",
   "execution_count": 4,
   "id": "0618a9ce",
   "metadata": {},
   "outputs": [],
   "source": [
    "#According to Cronbach's Alpha, the reliability of the questionnaire answers is acceptable. (0.7≤α<0.8)"
   ]
  },
  {
   "cell_type": "markdown",
   "id": "69cb9d0a",
   "metadata": {},
   "source": [
    "2. Explain the differences between in-house data labeling, crowdsourcing and outsourcing. "
   ]
  },
  {
   "cell_type": "markdown",
   "id": "feb412fc",
   "metadata": {},
   "source": [
    "In-house data labeling is characterized by a focus on achieving the highest quality annotations. The process involves labeling by internal staff, and often requires a lot of time and consulting with experts in the field to correctly label the data.\n",
    "\n",
    "Crowdsourcing is a process that requires a large number of freelance data annotators registered on a crowdsourcing platform. This approach is characterized by the diverse background of annotators, making it suitable for tasks involving relatively straightforward or trivial data, e.g. images of \n",
    "animals, plants and natural environments, and it does not require additional expertise.\n",
    "\n",
    "Outsourcing is a middle ground between crowdsourcing and in-house labeling. The task of annotating data is left to an individual or organization that has trained annotators. The process allows for the pre-evaluation of annotators, providing a cost-effective solution for projects that require high-quality data labeling but may have limited funding."
   ]
  },
  {
   "cell_type": "markdown",
   "id": "ce3d3e91",
   "metadata": {},
   "source": [
    "3. Explain the main differences between annotation for image classification, object detection and image segmentation."
   ]
  },
  {
   "cell_type": "markdown",
   "id": "dc1f2012",
   "metadata": {},
   "source": [
    "Annotation is a fundamental task in creating labeled datasets for training and evaluating machine learning models, enabling them to learn and generalize from the provided annotations to make predictions on new, unseen data.\n",
    "\n",
    "Image classification involves the assignment of tags to images, and the nature of the classification can vary based on the number of classes (binary or multi-class) and whether multiple tags are allowed for each image. The goal is to train a model that can accurately predict the appropriate tags or labels for new, unseen images.\n",
    "\n",
    "Object detection involves the identification and localization of objects within images by defining bounding boxes around them. These bounding boxes, along with object labels, are stored in a structured format, such as JSON, to represent the detected objects and their positions in the image.\n",
    "\n",
    "Image segmentation aims to separate objects within an image from both the background and other objects. For scenarios involving multiple objects in one image, each object is often represented on a separate channel, and the sum of these channels forms the reference image."
   ]
  }
 ],
 "metadata": {
  "kernelspec": {
   "display_name": "Python 3 (ipykernel)",
   "language": "python",
   "name": "python3"
  },
  "language_info": {
   "codemirror_mode": {
    "name": "ipython",
    "version": 3
   },
   "file_extension": ".py",
   "mimetype": "text/x-python",
   "name": "python",
   "nbconvert_exporter": "python",
   "pygments_lexer": "ipython3",
   "version": "3.11.5"
  }
 },
 "nbformat": 4,
 "nbformat_minor": 5
}
